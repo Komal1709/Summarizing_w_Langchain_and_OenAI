{
 "cells": [
  {
   "cell_type": "markdown",
   "id": "1a649ca2",
   "metadata": {},
   "source": [
    "## Setting up the Environment for all Projects:LangChain,Pineone and Python dotenv"
   ]
  },
  {
   "cell_type": "code",
   "execution_count": 2,
   "id": "ba728a9b",
   "metadata": {},
   "outputs": [
    {
     "name": "stdout",
     "output_type": "stream",
     "text": [
      "Requirement already satisfied: openai in c:\\users\\komal singh\\anaconda3\\lib\\site-packages (from -r ./requirements.txt (line 1)) (0.27.8)\n",
      "Requirement already satisfied: langchain in c:\\users\\komal singh\\anaconda3\\lib\\site-packages (from -r ./requirements.txt (line 2)) (0.0.266)\n",
      "Requirement already satisfied: pinecone-client in c:\\users\\komal singh\\anaconda3\\lib\\site-packages (from -r ./requirements.txt (line 3)) (2.2.2)\n",
      "Requirement already satisfied: python-dotenv in c:\\users\\komal singh\\anaconda3\\lib\\site-packages (from -r ./requirements.txt (line 4)) (1.0.0)\n",
      "Requirement already satisfied: tiktoken in c:\\users\\komal singh\\anaconda3\\lib\\site-packages (from -r ./requirements.txt (line 5)) (0.4.0)\n",
      "Requirement already satisfied: requests>=2.20 in c:\\users\\komal singh\\anaconda3\\lib\\site-packages (from openai->-r ./requirements.txt (line 1)) (2.26.0)\n",
      "Requirement already satisfied: tqdm in c:\\users\\komal singh\\anaconda3\\lib\\site-packages (from openai->-r ./requirements.txt (line 1)) (4.66.1)\n",
      "Requirement already satisfied: aiohttp in c:\\users\\komal singh\\anaconda3\\lib\\site-packages (from openai->-r ./requirements.txt (line 1)) (3.8.5)\n",
      "Requirement already satisfied: PyYAML>=5.3 in c:\\users\\komal singh\\anaconda3\\lib\\site-packages (from langchain->-r ./requirements.txt (line 2)) (6.0)\n",
      "Requirement already satisfied: SQLAlchemy<3,>=1.4 in c:\\users\\komal singh\\anaconda3\\lib\\site-packages (from langchain->-r ./requirements.txt (line 2)) (1.4.22)\n",
      "Requirement already satisfied: async-timeout<5.0.0,>=4.0.0 in c:\\users\\komal singh\\anaconda3\\lib\\site-packages (from langchain->-r ./requirements.txt (line 2)) (4.0.3)\n",
      "Requirement already satisfied: dataclasses-json<0.6.0,>=0.5.7 in c:\\users\\komal singh\\anaconda3\\lib\\site-packages (from langchain->-r ./requirements.txt (line 2)) (0.5.14)\n",
      "Requirement already satisfied: langsmith<0.1.0,>=0.0.21 in c:\\users\\komal singh\\anaconda3\\lib\\site-packages (from langchain->-r ./requirements.txt (line 2)) (0.0.22)\n",
      "Requirement already satisfied: numexpr<3.0.0,>=2.8.4 in c:\\users\\komal singh\\anaconda3\\lib\\site-packages (from langchain->-r ./requirements.txt (line 2)) (2.8.5)\n",
      "Requirement already satisfied: numpy<2,>=1 in c:\\users\\komal singh\\anaconda3\\lib\\site-packages (from langchain->-r ./requirements.txt (line 2)) (1.25.2)\n",
      "Requirement already satisfied: openapi-schema-pydantic<2.0,>=1.2 in c:\\users\\komal singh\\anaconda3\\lib\\site-packages (from langchain->-r ./requirements.txt (line 2)) (1.2.4)\n",
      "Requirement already satisfied: pydantic<2,>=1 in c:\\users\\komal singh\\anaconda3\\lib\\site-packages (from langchain->-r ./requirements.txt (line 2)) (1.10.12)\n",
      "Requirement already satisfied: tenacity<9.0.0,>=8.1.0 in c:\\users\\komal singh\\anaconda3\\lib\\site-packages (from langchain->-r ./requirements.txt (line 2)) (8.2.3)\n",
      "Requirement already satisfied: loguru>=0.5.0 in c:\\users\\komal singh\\anaconda3\\lib\\site-packages (from pinecone-client->-r ./requirements.txt (line 3)) (0.7.0)\n",
      "Requirement already satisfied: typing-extensions>=3.7.4 in c:\\users\\komal singh\\anaconda3\\lib\\site-packages (from pinecone-client->-r ./requirements.txt (line 3)) (4.7.1)\n",
      "Requirement already satisfied: dnspython>=2.0.0 in c:\\users\\komal singh\\anaconda3\\lib\\site-packages (from pinecone-client->-r ./requirements.txt (line 3)) (2.4.2)\n",
      "Requirement already satisfied: python-dateutil>=2.5.3 in c:\\users\\komal singh\\anaconda3\\lib\\site-packages (from pinecone-client->-r ./requirements.txt (line 3)) (2.8.2)\n",
      "Requirement already satisfied: urllib3>=1.21.1 in c:\\users\\komal singh\\anaconda3\\lib\\site-packages (from pinecone-client->-r ./requirements.txt (line 3)) (1.26.7)\n",
      "Requirement already satisfied: regex>=2022.1.18 in c:\\users\\komal singh\\anaconda3\\lib\\site-packages (from tiktoken->-r ./requirements.txt (line 5)) (2023.8.8)\n",
      "Requirement already satisfied: attrs>=17.3.0 in c:\\users\\komal singh\\anaconda3\\lib\\site-packages (from aiohttp->openai->-r ./requirements.txt (line 1)) (21.2.0)\n",
      "Requirement already satisfied: charset-normalizer<4.0,>=2.0 in c:\\users\\komal singh\\anaconda3\\lib\\site-packages (from aiohttp->openai->-r ./requirements.txt (line 1)) (2.0.4)\n",
      "Requirement already satisfied: multidict<7.0,>=4.5 in c:\\users\\komal singh\\anaconda3\\lib\\site-packages (from aiohttp->openai->-r ./requirements.txt (line 1)) (6.0.4)\n",
      "Requirement already satisfied: yarl<2.0,>=1.0 in c:\\users\\komal singh\\anaconda3\\lib\\site-packages (from aiohttp->openai->-r ./requirements.txt (line 1)) (1.9.2)\n",
      "Requirement already satisfied: frozenlist>=1.1.1 in c:\\users\\komal singh\\anaconda3\\lib\\site-packages (from aiohttp->openai->-r ./requirements.txt (line 1)) (1.4.0)\n",
      "Requirement already satisfied: aiosignal>=1.1.2 in c:\\users\\komal singh\\anaconda3\\lib\\site-packages (from aiohttp->openai->-r ./requirements.txt (line 1)) (1.3.1)\n",
      "Requirement already satisfied: marshmallow<4.0.0,>=3.18.0 in c:\\users\\komal singh\\anaconda3\\lib\\site-packages (from dataclasses-json<0.6.0,>=0.5.7->langchain->-r ./requirements.txt (line 2)) (3.20.1)\n",
      "Requirement already satisfied: typing-inspect<1,>=0.4.0 in c:\\users\\komal singh\\anaconda3\\lib\\site-packages (from dataclasses-json<0.6.0,>=0.5.7->langchain->-r ./requirements.txt (line 2)) (0.9.0)\n",
      "Requirement already satisfied: colorama>=0.3.4 in c:\\users\\komal singh\\anaconda3\\lib\\site-packages (from loguru>=0.5.0->pinecone-client->-r ./requirements.txt (line 3)) (0.4.4)\n",
      "Requirement already satisfied: win32-setctime>=1.0.0 in c:\\users\\komal singh\\anaconda3\\lib\\site-packages (from loguru>=0.5.0->pinecone-client->-r ./requirements.txt (line 3)) (1.1.0)\n",
      "Requirement already satisfied: six>=1.5 in c:\\users\\komal singh\\anaconda3\\lib\\site-packages (from python-dateutil>=2.5.3->pinecone-client->-r ./requirements.txt (line 3)) (1.16.0)\n",
      "Requirement already satisfied: certifi>=2017.4.17 in c:\\users\\komal singh\\anaconda3\\lib\\site-packages (from requests>=2.20->openai->-r ./requirements.txt (line 1)) (2021.10.8)\n",
      "Requirement already satisfied: idna<4,>=2.5 in c:\\users\\komal singh\\anaconda3\\lib\\site-packages (from requests>=2.20->openai->-r ./requirements.txt (line 1)) (3.2)\n",
      "Requirement already satisfied: greenlet!=0.4.17 in c:\\users\\komal singh\\anaconda3\\lib\\site-packages (from SQLAlchemy<3,>=1.4->langchain->-r ./requirements.txt (line 2)) (1.1.1)\n",
      "Requirement already satisfied: packaging>=17.0 in c:\\users\\komal singh\\anaconda3\\lib\\site-packages (from marshmallow<4.0.0,>=3.18.0->dataclasses-json<0.6.0,>=0.5.7->langchain->-r ./requirements.txt (line 2)) (21.0)\n",
      "Requirement already satisfied: mypy-extensions>=0.3.0 in c:\\users\\komal singh\\anaconda3\\lib\\site-packages (from typing-inspect<1,>=0.4.0->dataclasses-json<0.6.0,>=0.5.7->langchain->-r ./requirements.txt (line 2)) (0.4.3)\n",
      "Requirement already satisfied: pyparsing>=2.0.2 in c:\\users\\komal singh\\anaconda3\\lib\\site-packages (from packaging>=17.0->marshmallow<4.0.0,>=3.18.0->dataclasses-json<0.6.0,>=0.5.7->langchain->-r ./requirements.txt (line 2)) (3.0.4)\n"
     ]
    },
    {
     "name": "stderr",
     "output_type": "stream",
     "text": [
      "DEPRECATION: pyodbc 4.0.0-unsupported has a non-standard version number. pip 23.3 will enforce this behaviour change. A possible replacement is to upgrade to a newer version of pyodbc or contact the author to suggest that they release a version with a conforming version number. Discussion can be found at https://github.com/pypa/pip/issues/12063\n"
     ]
    }
   ],
   "source": [
    "!pip install -r ./requirements.txt"
   ]
  },
  {
   "cell_type": "code",
   "execution_count": null,
   "id": "e61010f9",
   "metadata": {},
   "outputs": [],
   "source": []
  },
  {
   "cell_type": "code",
   "execution_count": null,
   "id": "f824e832",
   "metadata": {},
   "outputs": [],
   "source": []
  },
  {
   "cell_type": "code",
   "execution_count": null,
   "id": "54691197",
   "metadata": {},
   "outputs": [],
   "source": []
  },
  {
   "cell_type": "code",
   "execution_count": null,
   "id": "2006299e",
   "metadata": {},
   "outputs": [],
   "source": []
  },
  {
   "cell_type": "code",
   "execution_count": null,
   "id": "d7e31ba1",
   "metadata": {},
   "outputs": [],
   "source": []
  },
  {
   "cell_type": "code",
   "execution_count": null,
   "id": "d6ce3380",
   "metadata": {},
   "outputs": [],
   "source": []
  },
  {
   "cell_type": "code",
   "execution_count": null,
   "id": "ac03425b",
   "metadata": {},
   "outputs": [],
   "source": []
  },
  {
   "cell_type": "code",
   "execution_count": null,
   "id": "fe3f8a2b",
   "metadata": {},
   "outputs": [],
   "source": []
  }
 ],
 "metadata": {
  "kernelspec": {
   "display_name": "Python 3 (ipykernel)",
   "language": "python",
   "name": "python3"
  },
  "language_info": {
   "codemirror_mode": {
    "name": "ipython",
    "version": 3
   },
   "file_extension": ".py",
   "mimetype": "text/x-python",
   "name": "python",
   "nbconvert_exporter": "python",
   "pygments_lexer": "ipython3",
   "version": "3.9.7"
  }
 },
 "nbformat": 4,
 "nbformat_minor": 5
}

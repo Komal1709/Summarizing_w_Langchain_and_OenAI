{
 "cells": [
  {
   "cell_type": "markdown",
   "id": "1a649ca2",
   "metadata": {},
   "source": [
    "# Project-1:Summarization Application using Langchain and openAI"
   ]
  },
  {
   "cell_type": "code",
   "execution_count": 1,
   "id": "3dfe1bff",
   "metadata": {},
   "outputs": [],
   "source": [
    "#!pip install -r ./requirements.txt"
   ]
  },
  {
   "cell_type": "code",
   "execution_count": 2,
   "id": "e61010f9",
   "metadata": {},
   "outputs": [
    {
     "data": {
      "text/plain": [
       "True"
      ]
     },
     "execution_count": 2,
     "metadata": {},
     "output_type": "execute_result"
    }
   ],
   "source": [
    "import os\n",
    "from dotenv import load_dotenv,find_dotenv\n",
    "load_dotenv(find_dotenv(),override=True)"
   ]
  },
  {
   "cell_type": "markdown",
   "id": "7786d812",
   "metadata": {},
   "source": [
    "## A) Basic Prompt"
   ]
  },
  {
   "cell_type": "code",
   "execution_count": 3,
   "id": "54691197",
   "metadata": {},
   "outputs": [],
   "source": [
    "from langchain.chat_models import ChatOpenAI\n",
    "from langchain.schema import(\n",
    "    AIMessage,\n",
    "    HumanMessage,\n",
    "    SystemMessage\n",
    "    )"
   ]
  },
  {
   "cell_type": "code",
   "execution_count": 4,
   "id": "2006299e",
   "metadata": {},
   "outputs": [],
   "source": [
    "text=\"\"\"Mojo combines the usability of Python with the performance of C, unlocking unparalleled programmability of AI hardware and extensibility of AI models.\n",
    "Mojo is a new programming language that bridges the gap between research and production by combining the best of Python syntax with systems programming and metaprogramming.\n",
    "With Mojo, you can write portable code that’s faster than C and seamlessly inter-op with the Python ecosystem.\n",
    "When we started Modular, we had no intention of building a new programming language. But as we were building our platform \n",
    "with the intent to unify the world’s ML/AI infrastructure, we realized that programming across the entire stack was too \n",
    "complicated. Plus, we were writing a lot of MLIR by hand and not having a good time.\n",
    "And although accelerators are important, one of the most prevalent and sometimes overlooked “accelerators” is the host CPU.\n",
    "Nowadays, CPUs have lots of tensor-core-like accelerator blocks and other AI acceleration units, but they also serve as the \n",
    "“fallback” for operations that specialized accelerators don’t handle, such as data loading, pre- and post-processing, and\n",
    "integrations with foreign systems.\n",
    "\"\"\""
   ]
  },
  {
   "cell_type": "code",
   "execution_count": 5,
   "id": "d7e31ba1",
   "metadata": {},
   "outputs": [],
   "source": [
    "messages= [\n",
    "    SystemMessage(content='You are an expert copywriter with expertize in summarizing document'),\n",
    "    HumanMessage(content=f'Please provide a short and concise summary of the fillowing text:\\n TEXT:y {text}')\n",
    "]"
   ]
  },
  {
   "cell_type": "code",
   "execution_count": 6,
   "id": "d6ce3380",
   "metadata": {},
   "outputs": [],
   "source": [
    "llm=ChatOpenAI(temperature=0, model_name='gpt-3.5-turbo')"
   ]
  },
  {
   "cell_type": "code",
   "execution_count": 7,
   "id": "aec109b1",
   "metadata": {},
   "outputs": [
    {
     "data": {
      "text/plain": [
       "233"
      ]
     },
     "execution_count": 7,
     "metadata": {},
     "output_type": "execute_result"
    }
   ],
   "source": [
    "llm.get_num_tokens(text)"
   ]
  },
  {
   "cell_type": "code",
   "execution_count": 8,
   "id": "77c3b692",
   "metadata": {},
   "outputs": [],
   "source": [
    "summary_output=llm(messages)"
   ]
  },
  {
   "cell_type": "code",
   "execution_count": 9,
   "id": "fe3f8a2b",
   "metadata": {},
   "outputs": [
    {
     "name": "stdout",
     "output_type": "stream",
     "text": [
      "Mojo is a new programming language that combines the usability of Python with the performance of C. It aims to bridge the gap between research and production in the field of AI by providing portable code that is faster than C and seamlessly integrates with the Python ecosystem. Mojo recognizes the importance of host CPUs in AI acceleration and offers a solution for operations that specialized accelerators cannot handle.\n"
     ]
    }
   ],
   "source": [
    "print(summary_output.content)"
   ]
  },
  {
   "cell_type": "markdown",
   "id": "ca911f75",
   "metadata": {},
   "source": [
    "## Summarizing Using Prompt Template"
   ]
  },
  {
   "cell_type": "code",
   "execution_count": 20,
   "id": "1948bad2",
   "metadata": {},
   "outputs": [],
   "source": [
    "from langchain import PromptTemplate\n",
    "from langchain.chains import LLMChain"
   ]
  },
  {
   "cell_type": "code",
   "execution_count": 21,
   "id": "c8ac63cd",
   "metadata": {},
   "outputs": [],
   "source": [
    "template= '''\n",
    "Write a concise and short summary of the following text:\n",
    "TEXT:'{text}'\n",
    "Translate the summary to {language}.\n",
    "'''\n",
    "\n",
    "prompt = PromptTemplate(\n",
    "    input_variables = ['text','language'],\n",
    "    template = template\n",
    ")"
   ]
  },
  {
   "cell_type": "code",
   "execution_count": 22,
   "id": "9971f790",
   "metadata": {},
   "outputs": [
    {
     "data": {
      "text/plain": [
       "254"
      ]
     },
     "execution_count": 22,
     "metadata": {},
     "output_type": "execute_result"
    }
   ],
   "source": [
    "llm.get_num_tokens(promp.format(text=text,language='English'))"
   ]
  },
  {
   "cell_type": "code",
   "execution_count": 25,
   "id": "d476fce4",
   "metadata": {},
   "outputs": [],
   "source": [
    "chain=LLMChain(llm=llm, prompt=prompt)\n",
    "summary= chain.run({'text':text,'language':'hindi'})"
   ]
  },
  {
   "cell_type": "code",
   "execution_count": 26,
   "id": "cbca4078",
   "metadata": {},
   "outputs": [
    {
     "name": "stdout",
     "output_type": "stream",
     "text": [
      "Mojo एक नया प्रोग्रामिंग भाषा है जो पायथन की उपयोगिता को सी की प्रदर्शन के साथ मिलाकर एआई हार्डवेयर की अद्वितीय प्रोग्रामबिलिटी और एआई मॉडल की विस्तारयोग्यता को खोलता है। Mojo विज्ञान और उत्पादन के बीच की खाई को पार करने के लिए पायथन सिंटेक्स के साथ सिस्टम प्रोग्रामिंग और मेटाप्रोग्रामिंग का सर्वश्रेष्ठ मिश्रण करता है। Mojo के साथ, आप C से तेज़ पोर्टेबल कोड लिख सकते हैं और पायथन इकोसिस्टम के साथ सहजता से इंटरऑप कर सकते हैं।\n"
     ]
    }
   ],
   "source": [
    "print(summary)"
   ]
  },
  {
   "cell_type": "code",
   "execution_count": null,
   "id": "fe4575da",
   "metadata": {},
   "outputs": [],
   "source": []
  }
 ],
 "metadata": {
  "kernelspec": {
   "display_name": "Python 3 (ipykernel)",
   "language": "python",
   "name": "python3"
  },
  "language_info": {
   "codemirror_mode": {
    "name": "ipython",
    "version": 3
   },
   "file_extension": ".py",
   "mimetype": "text/x-python",
   "name": "python",
   "nbconvert_exporter": "python",
   "pygments_lexer": "ipython3",
   "version": "3.9.7"
  }
 },
 "nbformat": 4,
 "nbformat_minor": 5
}
